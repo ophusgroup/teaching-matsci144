{
 "cells": [
  {
   "cell_type": "markdown",
   "id": "50b6eb27-53b7-462b-9dd5-0026a1d78107",
   "metadata": {},
   "source": [
    "# Figure showing a single gas molecule bouncing off a cube wall.\n",
    "\n",
    "Colin Ophus - 2024 Dec 19"
   ]
  },
  {
   "cell_type": "code",
   "execution_count": 1,
   "id": "5f70763b-a982-464d-8f05-06c8f4e90d47",
   "metadata": {},
   "outputs": [],
   "source": [
    "import plotly.graph_objects as go"
   ]
  },
  {
   "cell_type": "code",
   "execution_count": 8,
   "id": "20fd10b3-ae47-470c-b15b-c178ba5e3f61",
   "metadata": {},
   "outputs": [
    {
     "data": {
      "application/vnd.plotly.v1+json": {
       "config": {
        "plotlyServerURL": "https://plot.ly"
       },
       "data": [
        {
         "line": {
          "color": "black",
          "width": 2
         },
         "mode": "lines",
         "type": "scatter3d",
         "x": [
          0,
          0,
          0,
          0,
          0
         ],
         "y": [
          0,
          0,
          10,
          10,
          0
         ],
         "z": [
          0,
          10,
          10,
          0,
          0
         ]
        },
        {
         "line": {
          "color": "black",
          "width": 2
         },
         "mode": "lines",
         "type": "scatter3d",
         "x": [
          10,
          10,
          10,
          10,
          10
         ],
         "y": [
          0,
          0,
          10,
          10,
          0
         ],
         "z": [
          0,
          10,
          10,
          0,
          0
         ]
        },
        {
         "line": {
          "color": "black",
          "width": 2
         },
         "mode": "lines",
         "type": "scatter3d",
         "x": [
          0,
          10
         ],
         "y": [
          0,
          0
         ],
         "z": [
          0,
          0
         ]
        },
        {
         "line": {
          "color": "black",
          "width": 2
         },
         "mode": "lines",
         "type": "scatter3d",
         "x": [
          0,
          10
         ],
         "y": [
          0,
          0
         ],
         "z": [
          10,
          10
         ]
        },
        {
         "line": {
          "color": "black",
          "width": 2
         },
         "mode": "lines",
         "type": "scatter3d",
         "x": [
          0,
          10
         ],
         "y": [
          10,
          10
         ],
         "z": [
          0,
          0
         ]
        },
        {
         "line": {
          "color": "black",
          "width": 2
         },
         "mode": "lines",
         "type": "scatter3d",
         "x": [
          0,
          10
         ],
         "y": [
          10,
          10
         ],
         "z": [
          10,
          10
         ]
        },
        {
         "color": "cyan",
         "i": [
          0,
          1,
          2,
          3
         ],
         "j": [
          1,
          2,
          3,
          0
         ],
         "k": [
          2,
          3,
          0,
          1
         ],
         "name": "Cube Face",
         "opacity": 0.25,
         "type": "mesh3d",
         "x": [
          0,
          10,
          10,
          0
         ],
         "y": [
          10,
          10,
          10,
          10
         ],
         "z": [
          0,
          0,
          10,
          10
         ]
        },
        {
         "marker": {
          "color": "black",
          "size": 8
         },
         "mode": "markers+text",
         "name": "Gas Molecule",
         "text": [
          "̅v"
         ],
         "textposition": "top center",
         "type": "scatter3d",
         "x": [
          5
         ],
         "y": [
          5
         ],
         "z": [
          2
         ]
        },
        {
         "line": {
          "color": "red",
          "width": 5
         },
         "mode": "lines",
         "name": "Incident Vector",
         "type": "scatter3d",
         "x": [
          5,
          5
         ],
         "y": [
          5,
          9.75
         ],
         "z": [
          2,
          4.85
         ]
        },
        {
         "anchor": "tip",
         "colorscale": [
          [
           0,
           "red"
          ],
          [
           1,
           "red"
          ]
         ],
         "name": "Incident Arrow",
         "showscale": false,
         "sizemode": "absolute",
         "sizeref": 2,
         "type": "cone",
         "u": [
          0
         ],
         "v": [
          5
         ],
         "w": [
          3
         ],
         "x": [
          5
         ],
         "y": [
          10
         ],
         "z": [
          5
         ]
        },
        {
         "line": {
          "color": "red",
          "width": 5
         },
         "mode": "lines",
         "name": "Incident Vector",
         "type": "scatter3d",
         "x": [
          5,
          5
         ],
         "y": [
          10,
          5.25
         ],
         "z": [
          5,
          7.85
         ]
        },
        {
         "anchor": "tip",
         "colorscale": [
          [
           0,
           "red"
          ],
          [
           1,
           "red"
          ]
         ],
         "name": "Incident Arrow",
         "showscale": false,
         "sizemode": "absolute",
         "sizeref": 2,
         "type": "cone",
         "u": [
          0
         ],
         "v": [
          -5
         ],
         "w": [
          3
         ],
         "x": [
          5
         ],
         "y": [
          5
         ],
         "z": [
          8
         ]
        },
        {
         "line": {
          "color": "black",
          "width": 3
         },
         "mode": "lines+text",
         "name": "X-axis",
         "text": [
          "",
          "x"
         ],
         "textposition": "top center",
         "type": "scatter3d",
         "x": [
          0,
          14
         ],
         "y": [
          0,
          0
         ],
         "z": [
          0,
          0
         ]
        },
        {
         "line": {
          "color": "black",
          "width": 3
         },
         "mode": "lines+text",
         "name": "Y-axis",
         "text": [
          "",
          "y"
         ],
         "textposition": "top center",
         "type": "scatter3d",
         "x": [
          0,
          0
         ],
         "y": [
          0,
          14
         ],
         "z": [
          0,
          0
         ]
        },
        {
         "line": {
          "color": "black",
          "width": 3
         },
         "mode": "lines+text",
         "name": "Z-axis",
         "text": [
          "",
          "z"
         ],
         "textposition": "top center",
         "type": "scatter3d",
         "x": [
          0,
          0
         ],
         "y": [
          0,
          0
         ],
         "z": [
          0,
          14
         ]
        },
        {
         "line": {
          "color": "black",
          "width": 2
         },
         "mode": "lines",
         "type": "scatter3d",
         "x": [
          4.5,
          4
         ],
         "y": [
          10,
          10
         ],
         "z": [
          5,
          5
         ]
        },
        {
         "line": {
          "color": "black",
          "width": 2
         },
         "mode": "lines",
         "type": "scatter3d",
         "x": [
          5.5,
          6
         ],
         "y": [
          10,
          10
         ],
         "z": [
          5,
          5
         ]
        },
        {
         "line": {
          "color": "black",
          "width": 2
         },
         "mode": "lines",
         "type": "scatter3d",
         "x": [
          5,
          5
         ],
         "y": [
          9.5,
          9
         ],
         "z": [
          5,
          5
         ]
        },
        {
         "line": {
          "color": "black",
          "width": 2
         },
         "mode": "lines",
         "type": "scatter3d",
         "x": [
          5,
          5
         ],
         "y": [
          10.5,
          11
         ],
         "z": [
          5,
          5
         ]
        },
        {
         "line": {
          "color": "black",
          "width": 2
         },
         "mode": "lines",
         "type": "scatter3d",
         "x": [
          5,
          5
         ],
         "y": [
          10,
          10
         ],
         "z": [
          4.5,
          4
         ]
        },
        {
         "line": {
          "color": "black",
          "width": 2
         },
         "mode": "lines",
         "type": "scatter3d",
         "x": [
          5,
          5
         ],
         "y": [
          10,
          10
         ],
         "z": [
          5.5,
          6
         ]
        },
        {
         "line": {
          "color": "black",
          "width": 2
         },
         "mode": "lines",
         "type": "scatter3d",
         "x": [
          5.3535,
          5.707
         ],
         "y": [
          10.3535,
          10.707
         ],
         "z": [
          5,
          5
         ]
        },
        {
         "line": {
          "color": "black",
          "width": 2
         },
         "mode": "lines",
         "type": "scatter3d",
         "x": [
          4.6465,
          4.293
         ],
         "y": [
          9.6465,
          9.293
         ],
         "z": [
          5,
          5
         ]
        },
        {
         "line": {
          "color": "black",
          "width": 2
         },
         "mode": "lines",
         "type": "scatter3d",
         "x": [
          5.3535,
          5.707
         ],
         "y": [
          10,
          10
         ],
         "z": [
          5.3535,
          5.707
         ]
        },
        {
         "line": {
          "color": "black",
          "width": 2
         },
         "mode": "lines",
         "type": "scatter3d",
         "x": [
          4.6465,
          4.293
         ],
         "y": [
          10,
          10
         ],
         "z": [
          4.6465,
          4.293
         ]
        },
        {
         "line": {
          "color": "black",
          "width": 2
         },
         "mode": "lines",
         "type": "scatter3d",
         "x": [
          5,
          5
         ],
         "y": [
          10.3535,
          10.707
         ],
         "z": [
          5.3535,
          5.707
         ]
        },
        {
         "line": {
          "color": "black",
          "width": 2
         },
         "mode": "lines",
         "type": "scatter3d",
         "x": [
          5,
          5
         ],
         "y": [
          9.6465,
          9.293
         ],
         "z": [
          4.6465,
          4.293
         ]
        },
        {
         "line": {
          "color": "black",
          "width": 2
         },
         "mode": "lines",
         "type": "scatter3d",
         "x": [
          5.3535,
          5.707
         ],
         "y": [
          9.6465,
          9.293
         ],
         "z": [
          5,
          5
         ]
        },
        {
         "line": {
          "color": "black",
          "width": 2
         },
         "mode": "lines",
         "type": "scatter3d",
         "x": [
          4.6465,
          4.293
         ],
         "y": [
          10.3535,
          10.707
         ],
         "z": [
          5,
          5
         ]
        },
        {
         "line": {
          "color": "black",
          "width": 2
         },
         "mode": "lines",
         "type": "scatter3d",
         "x": [
          5.3535,
          5.707
         ],
         "y": [
          10,
          10
         ],
         "z": [
          4.6465,
          4.293
         ]
        },
        {
         "line": {
          "color": "black",
          "width": 2
         },
         "mode": "lines",
         "type": "scatter3d",
         "x": [
          4.6465,
          4.293
         ],
         "y": [
          10,
          10
         ],
         "z": [
          5.3535,
          5.707
         ]
        },
        {
         "line": {
          "color": "black",
          "width": 2
         },
         "mode": "lines",
         "type": "scatter3d",
         "x": [
          5,
          5
         ],
         "y": [
          10.3535,
          10.707
         ],
         "z": [
          4.6465,
          4.293
         ]
        },
        {
         "line": {
          "color": "black",
          "width": 2
         },
         "mode": "lines",
         "type": "scatter3d",
         "x": [
          5,
          5
         ],
         "y": [
          9.6465,
          9.293
         ],
         "z": [
          5.3535,
          5.707
         ]
        }
       ],
       "layout": {
        "scene": {
         "aspectmode": "cube",
         "aspectratio": {
          "x": 1,
          "y": 1,
          "z": 1
         },
         "camera": {
          "eye": {
           "x": 1.2,
           "y": 0.7,
           "z": 0.4
          }
         },
         "xaxis": {
          "showbackground": false,
          "showgrid": false,
          "showticklabels": false,
          "title": {
           "text": ""
          }
         },
         "yaxis": {
          "showbackground": false,
          "showgrid": false,
          "showticklabels": false,
          "title": {
           "text": ""
          }
         },
         "zaxis": {
          "showbackground": false,
          "showgrid": false,
          "showticklabels": false,
          "title": {
           "text": ""
          }
         }
        },
        "showlegend": false,
        "template": {
         "data": {
          "bar": [
           {
            "error_x": {
             "color": "#2a3f5f"
            },
            "error_y": {
             "color": "#2a3f5f"
            },
            "marker": {
             "line": {
              "color": "#E5ECF6",
              "width": 0.5
             },
             "pattern": {
              "fillmode": "overlay",
              "size": 10,
              "solidity": 0.2
             }
            },
            "type": "bar"
           }
          ],
          "barpolar": [
           {
            "marker": {
             "line": {
              "color": "#E5ECF6",
              "width": 0.5
             },
             "pattern": {
              "fillmode": "overlay",
              "size": 10,
              "solidity": 0.2
             }
            },
            "type": "barpolar"
           }
          ],
          "carpet": [
           {
            "aaxis": {
             "endlinecolor": "#2a3f5f",
             "gridcolor": "white",
             "linecolor": "white",
             "minorgridcolor": "white",
             "startlinecolor": "#2a3f5f"
            },
            "baxis": {
             "endlinecolor": "#2a3f5f",
             "gridcolor": "white",
             "linecolor": "white",
             "minorgridcolor": "white",
             "startlinecolor": "#2a3f5f"
            },
            "type": "carpet"
           }
          ],
          "choropleth": [
           {
            "colorbar": {
             "outlinewidth": 0,
             "ticks": ""
            },
            "type": "choropleth"
           }
          ],
          "contour": [
           {
            "colorbar": {
             "outlinewidth": 0,
             "ticks": ""
            },
            "colorscale": [
             [
              0,
              "#0d0887"
             ],
             [
              0.1111111111111111,
              "#46039f"
             ],
             [
              0.2222222222222222,
              "#7201a8"
             ],
             [
              0.3333333333333333,
              "#9c179e"
             ],
             [
              0.4444444444444444,
              "#bd3786"
             ],
             [
              0.5555555555555556,
              "#d8576b"
             ],
             [
              0.6666666666666666,
              "#ed7953"
             ],
             [
              0.7777777777777778,
              "#fb9f3a"
             ],
             [
              0.8888888888888888,
              "#fdca26"
             ],
             [
              1,
              "#f0f921"
             ]
            ],
            "type": "contour"
           }
          ],
          "contourcarpet": [
           {
            "colorbar": {
             "outlinewidth": 0,
             "ticks": ""
            },
            "type": "contourcarpet"
           }
          ],
          "heatmap": [
           {
            "colorbar": {
             "outlinewidth": 0,
             "ticks": ""
            },
            "colorscale": [
             [
              0,
              "#0d0887"
             ],
             [
              0.1111111111111111,
              "#46039f"
             ],
             [
              0.2222222222222222,
              "#7201a8"
             ],
             [
              0.3333333333333333,
              "#9c179e"
             ],
             [
              0.4444444444444444,
              "#bd3786"
             ],
             [
              0.5555555555555556,
              "#d8576b"
             ],
             [
              0.6666666666666666,
              "#ed7953"
             ],
             [
              0.7777777777777778,
              "#fb9f3a"
             ],
             [
              0.8888888888888888,
              "#fdca26"
             ],
             [
              1,
              "#f0f921"
             ]
            ],
            "type": "heatmap"
           }
          ],
          "heatmapgl": [
           {
            "colorbar": {
             "outlinewidth": 0,
             "ticks": ""
            },
            "colorscale": [
             [
              0,
              "#0d0887"
             ],
             [
              0.1111111111111111,
              "#46039f"
             ],
             [
              0.2222222222222222,
              "#7201a8"
             ],
             [
              0.3333333333333333,
              "#9c179e"
             ],
             [
              0.4444444444444444,
              "#bd3786"
             ],
             [
              0.5555555555555556,
              "#d8576b"
             ],
             [
              0.6666666666666666,
              "#ed7953"
             ],
             [
              0.7777777777777778,
              "#fb9f3a"
             ],
             [
              0.8888888888888888,
              "#fdca26"
             ],
             [
              1,
              "#f0f921"
             ]
            ],
            "type": "heatmapgl"
           }
          ],
          "histogram": [
           {
            "marker": {
             "pattern": {
              "fillmode": "overlay",
              "size": 10,
              "solidity": 0.2
             }
            },
            "type": "histogram"
           }
          ],
          "histogram2d": [
           {
            "colorbar": {
             "outlinewidth": 0,
             "ticks": ""
            },
            "colorscale": [
             [
              0,
              "#0d0887"
             ],
             [
              0.1111111111111111,
              "#46039f"
             ],
             [
              0.2222222222222222,
              "#7201a8"
             ],
             [
              0.3333333333333333,
              "#9c179e"
             ],
             [
              0.4444444444444444,
              "#bd3786"
             ],
             [
              0.5555555555555556,
              "#d8576b"
             ],
             [
              0.6666666666666666,
              "#ed7953"
             ],
             [
              0.7777777777777778,
              "#fb9f3a"
             ],
             [
              0.8888888888888888,
              "#fdca26"
             ],
             [
              1,
              "#f0f921"
             ]
            ],
            "type": "histogram2d"
           }
          ],
          "histogram2dcontour": [
           {
            "colorbar": {
             "outlinewidth": 0,
             "ticks": ""
            },
            "colorscale": [
             [
              0,
              "#0d0887"
             ],
             [
              0.1111111111111111,
              "#46039f"
             ],
             [
              0.2222222222222222,
              "#7201a8"
             ],
             [
              0.3333333333333333,
              "#9c179e"
             ],
             [
              0.4444444444444444,
              "#bd3786"
             ],
             [
              0.5555555555555556,
              "#d8576b"
             ],
             [
              0.6666666666666666,
              "#ed7953"
             ],
             [
              0.7777777777777778,
              "#fb9f3a"
             ],
             [
              0.8888888888888888,
              "#fdca26"
             ],
             [
              1,
              "#f0f921"
             ]
            ],
            "type": "histogram2dcontour"
           }
          ],
          "mesh3d": [
           {
            "colorbar": {
             "outlinewidth": 0,
             "ticks": ""
            },
            "type": "mesh3d"
           }
          ],
          "parcoords": [
           {
            "line": {
             "colorbar": {
              "outlinewidth": 0,
              "ticks": ""
             }
            },
            "type": "parcoords"
           }
          ],
          "pie": [
           {
            "automargin": true,
            "type": "pie"
           }
          ],
          "scatter": [
           {
            "marker": {
             "colorbar": {
              "outlinewidth": 0,
              "ticks": ""
             }
            },
            "type": "scatter"
           }
          ],
          "scatter3d": [
           {
            "line": {
             "colorbar": {
              "outlinewidth": 0,
              "ticks": ""
             }
            },
            "marker": {
             "colorbar": {
              "outlinewidth": 0,
              "ticks": ""
             }
            },
            "type": "scatter3d"
           }
          ],
          "scattercarpet": [
           {
            "marker": {
             "colorbar": {
              "outlinewidth": 0,
              "ticks": ""
             }
            },
            "type": "scattercarpet"
           }
          ],
          "scattergeo": [
           {
            "marker": {
             "colorbar": {
              "outlinewidth": 0,
              "ticks": ""
             }
            },
            "type": "scattergeo"
           }
          ],
          "scattergl": [
           {
            "marker": {
             "colorbar": {
              "outlinewidth": 0,
              "ticks": ""
             }
            },
            "type": "scattergl"
           }
          ],
          "scattermapbox": [
           {
            "marker": {
             "colorbar": {
              "outlinewidth": 0,
              "ticks": ""
             }
            },
            "type": "scattermapbox"
           }
          ],
          "scatterpolar": [
           {
            "marker": {
             "colorbar": {
              "outlinewidth": 0,
              "ticks": ""
             }
            },
            "type": "scatterpolar"
           }
          ],
          "scatterpolargl": [
           {
            "marker": {
             "colorbar": {
              "outlinewidth": 0,
              "ticks": ""
             }
            },
            "type": "scatterpolargl"
           }
          ],
          "scatterternary": [
           {
            "marker": {
             "colorbar": {
              "outlinewidth": 0,
              "ticks": ""
             }
            },
            "type": "scatterternary"
           }
          ],
          "surface": [
           {
            "colorbar": {
             "outlinewidth": 0,
             "ticks": ""
            },
            "colorscale": [
             [
              0,
              "#0d0887"
             ],
             [
              0.1111111111111111,
              "#46039f"
             ],
             [
              0.2222222222222222,
              "#7201a8"
             ],
             [
              0.3333333333333333,
              "#9c179e"
             ],
             [
              0.4444444444444444,
              "#bd3786"
             ],
             [
              0.5555555555555556,
              "#d8576b"
             ],
             [
              0.6666666666666666,
              "#ed7953"
             ],
             [
              0.7777777777777778,
              "#fb9f3a"
             ],
             [
              0.8888888888888888,
              "#fdca26"
             ],
             [
              1,
              "#f0f921"
             ]
            ],
            "type": "surface"
           }
          ],
          "table": [
           {
            "cells": {
             "fill": {
              "color": "#EBF0F8"
             },
             "line": {
              "color": "white"
             }
            },
            "header": {
             "fill": {
              "color": "#C8D4E3"
             },
             "line": {
              "color": "white"
             }
            },
            "type": "table"
           }
          ]
         },
         "layout": {
          "annotationdefaults": {
           "arrowcolor": "#2a3f5f",
           "arrowhead": 0,
           "arrowwidth": 1
          },
          "autotypenumbers": "strict",
          "coloraxis": {
           "colorbar": {
            "outlinewidth": 0,
            "ticks": ""
           }
          },
          "colorscale": {
           "diverging": [
            [
             0,
             "#8e0152"
            ],
            [
             0.1,
             "#c51b7d"
            ],
            [
             0.2,
             "#de77ae"
            ],
            [
             0.3,
             "#f1b6da"
            ],
            [
             0.4,
             "#fde0ef"
            ],
            [
             0.5,
             "#f7f7f7"
            ],
            [
             0.6,
             "#e6f5d0"
            ],
            [
             0.7,
             "#b8e186"
            ],
            [
             0.8,
             "#7fbc41"
            ],
            [
             0.9,
             "#4d9221"
            ],
            [
             1,
             "#276419"
            ]
           ],
           "sequential": [
            [
             0,
             "#0d0887"
            ],
            [
             0.1111111111111111,
             "#46039f"
            ],
            [
             0.2222222222222222,
             "#7201a8"
            ],
            [
             0.3333333333333333,
             "#9c179e"
            ],
            [
             0.4444444444444444,
             "#bd3786"
            ],
            [
             0.5555555555555556,
             "#d8576b"
            ],
            [
             0.6666666666666666,
             "#ed7953"
            ],
            [
             0.7777777777777778,
             "#fb9f3a"
            ],
            [
             0.8888888888888888,
             "#fdca26"
            ],
            [
             1,
             "#f0f921"
            ]
           ],
           "sequentialminus": [
            [
             0,
             "#0d0887"
            ],
            [
             0.1111111111111111,
             "#46039f"
            ],
            [
             0.2222222222222222,
             "#7201a8"
            ],
            [
             0.3333333333333333,
             "#9c179e"
            ],
            [
             0.4444444444444444,
             "#bd3786"
            ],
            [
             0.5555555555555556,
             "#d8576b"
            ],
            [
             0.6666666666666666,
             "#ed7953"
            ],
            [
             0.7777777777777778,
             "#fb9f3a"
            ],
            [
             0.8888888888888888,
             "#fdca26"
            ],
            [
             1,
             "#f0f921"
            ]
           ]
          },
          "colorway": [
           "#636efa",
           "#EF553B",
           "#00cc96",
           "#ab63fa",
           "#FFA15A",
           "#19d3f3",
           "#FF6692",
           "#B6E880",
           "#FF97FF",
           "#FECB52"
          ],
          "font": {
           "color": "#2a3f5f"
          },
          "geo": {
           "bgcolor": "white",
           "lakecolor": "white",
           "landcolor": "#E5ECF6",
           "showlakes": true,
           "showland": true,
           "subunitcolor": "white"
          },
          "hoverlabel": {
           "align": "left"
          },
          "hovermode": "closest",
          "mapbox": {
           "style": "light"
          },
          "paper_bgcolor": "white",
          "plot_bgcolor": "#E5ECF6",
          "polar": {
           "angularaxis": {
            "gridcolor": "white",
            "linecolor": "white",
            "ticks": ""
           },
           "bgcolor": "#E5ECF6",
           "radialaxis": {
            "gridcolor": "white",
            "linecolor": "white",
            "ticks": ""
           }
          },
          "scene": {
           "xaxis": {
            "backgroundcolor": "#E5ECF6",
            "gridcolor": "white",
            "gridwidth": 2,
            "linecolor": "white",
            "showbackground": true,
            "ticks": "",
            "zerolinecolor": "white"
           },
           "yaxis": {
            "backgroundcolor": "#E5ECF6",
            "gridcolor": "white",
            "gridwidth": 2,
            "linecolor": "white",
            "showbackground": true,
            "ticks": "",
            "zerolinecolor": "white"
           },
           "zaxis": {
            "backgroundcolor": "#E5ECF6",
            "gridcolor": "white",
            "gridwidth": 2,
            "linecolor": "white",
            "showbackground": true,
            "ticks": "",
            "zerolinecolor": "white"
           }
          },
          "shapedefaults": {
           "line": {
            "color": "#2a3f5f"
           }
          },
          "ternary": {
           "aaxis": {
            "gridcolor": "white",
            "linecolor": "white",
            "ticks": ""
           },
           "baxis": {
            "gridcolor": "white",
            "linecolor": "white",
            "ticks": ""
           },
           "bgcolor": "#E5ECF6",
           "caxis": {
            "gridcolor": "white",
            "linecolor": "white",
            "ticks": ""
           }
          },
          "title": {
           "x": 0.05
          },
          "xaxis": {
           "automargin": true,
           "gridcolor": "white",
           "linecolor": "white",
           "ticks": "",
           "title": {
            "standoff": 15
           },
           "zerolinecolor": "white",
           "zerolinewidth": 2
          },
          "yaxis": {
           "automargin": true,
           "gridcolor": "white",
           "linecolor": "white",
           "ticks": "",
           "title": {
            "standoff": 15
           },
           "zerolinecolor": "white",
           "zerolinewidth": 2
          }
         }
        }
       }
      },
      "image/png": "[encoded data removed]",
      "text/html": [
       "<div>                            <div id=\"f3f897da-0a16-47c0-99ff-23a35f05708e\" class=\"plotly-graph-div\" style=\"height:525px; width:100%;\"></div>            <script type=\"text/javascript\">                require([\"plotly\"], function(Plotly) {                    window.PLOTLYENV=window.PLOTLYENV || {};                                    if (document.getElementById(\"f3f897da-0a16-47c0-99ff-23a35f05708e\")) {                    Plotly.newPlot(                        \"f3f897da-0a16-47c0-99ff-23a35f05708e\",                        [{\"line\":{\"color\":\"black\",\"width\":2},\"mode\":\"lines\",\"x\":[0,0,0,0,0],\"y\":[0,0,10,10,0],\"z\":[0,10,10,0,0],\"type\":\"scatter3d\"},{\"line\":{\"color\":\"black\",\"width\":2},\"mode\":\"lines\",\"x\":[10,10,10,10,10],\"y\":[0,0,10,10,0],\"z\":[0,10,10,0,0],\"type\":\"scatter3d\"},{\"line\":{\"color\":\"black\",\"width\":2},\"mode\":\"lines\",\"x\":[0,10],\"y\":[0,0],\"z\":[0,0],\"type\":\"scatter3d\"},{\"line\":{\"color\":\"black\",\"width\":2},\"mode\":\"lines\",\"x\":[0,10],\"y\":[0,0],\"z\":[10,10],\"type\":\"scatter3d\"},{\"line\":{\"color\":\"black\",\"width\":2},\"mode\":\"lines\",\"x\":[0,10],\"y\":[10,10],\"z\":[0,0],\"type\":\"scatter3d\"},{\"line\":{\"color\":\"black\",\"width\":2},\"mode\":\"lines\",\"x\":[0,10],\"y\":[10,10],\"z\":[10,10],\"type\":\"scatter3d\"},{\"color\":\"cyan\",\"i\":[0,1,2,3],\"j\":[1,2,3,0],\"k\":[2,3,0,1],\"name\":\"Cube Face\",\"opacity\":0.25,\"x\":[0,10,10,0],\"y\":[10,10,10,10],\"z\":[0,0,10,10],\"type\":\"mesh3d\"},{\"marker\":{\"color\":\"black\",\"size\":8},\"mode\":\"markers+text\",\"name\":\"Gas Molecule\",\"text\":[\"\\u0305v\"],\"textposition\":\"top center\",\"x\":[5],\"y\":[5],\"z\":[2],\"type\":\"scatter3d\"},{\"line\":{\"color\":\"red\",\"width\":5},\"mode\":\"lines\",\"name\":\"Incident Vector\",\"x\":[5,5.0],\"y\":[5,9.75],\"z\":[2,4.85],\"type\":\"scatter3d\"},{\"anchor\":\"tip\",\"colorscale\":[[0,\"red\"],[1,\"red\"]],\"name\":\"Incident Arrow\",\"showscale\":false,\"sizemode\":\"absolute\",\"sizeref\":2,\"u\":[0],\"v\":[5],\"w\":[3],\"x\":[5],\"y\":[10],\"z\":[5],\"type\":\"cone\"},{\"line\":{\"color\":\"red\",\"width\":5},\"mode\":\"lines\",\"name\":\"Incident Vector\",\"x\":[5,5.0],\"y\":[10,5.25],\"z\":[5,7.85],\"type\":\"scatter3d\"},{\"anchor\":\"tip\",\"colorscale\":[[0,\"red\"],[1,\"red\"]],\"name\":\"Incident Arrow\",\"showscale\":false,\"sizemode\":\"absolute\",\"sizeref\":2,\"u\":[0],\"v\":[-5],\"w\":[3],\"x\":[5],\"y\":[5],\"z\":[8],\"type\":\"cone\"},{\"line\":{\"color\":\"black\",\"width\":3},\"mode\":\"lines+text\",\"name\":\"X-axis\",\"text\":[\"\",\"x\"],\"textposition\":\"top center\",\"x\":[0,14],\"y\":[0,0],\"z\":[0,0],\"type\":\"scatter3d\"},{\"line\":{\"color\":\"black\",\"width\":3},\"mode\":\"lines+text\",\"name\":\"Y-axis\",\"text\":[\"\",\"y\"],\"textposition\":\"top center\",\"x\":[0,0],\"y\":[0,14],\"z\":[0,0],\"type\":\"scatter3d\"},{\"line\":{\"color\":\"black\",\"width\":3},\"mode\":\"lines+text\",\"name\":\"Z-axis\",\"text\":[\"\",\"z\"],\"textposition\":\"top center\",\"x\":[0,0],\"y\":[0,0],\"z\":[0,14],\"type\":\"scatter3d\"},{\"line\":{\"color\":\"black\",\"width\":2},\"mode\":\"lines\",\"x\":[4.5,4],\"y\":[10.0,10],\"z\":[5.0,5],\"type\":\"scatter3d\"},{\"line\":{\"color\":\"black\",\"width\":2},\"mode\":\"lines\",\"x\":[5.5,6],\"y\":[10.0,10],\"z\":[5.0,5],\"type\":\"scatter3d\"},{\"line\":{\"color\":\"black\",\"width\":2},\"mode\":\"lines\",\"x\":[5.0,5],\"y\":[9.5,9],\"z\":[5.0,5],\"type\":\"scatter3d\"},{\"line\":{\"color\":\"black\",\"width\":2},\"mode\":\"lines\",\"x\":[5.0,5],\"y\":[10.5,11],\"z\":[5.0,5],\"type\":\"scatter3d\"},{\"line\":{\"color\":\"black\",\"width\":2},\"mode\":\"lines\",\"x\":[5.0,5],\"y\":[10.0,10],\"z\":[4.5,4],\"type\":\"scatter3d\"},{\"line\":{\"color\":\"black\",\"width\":2},\"mode\":\"lines\",\"x\":[5.0,5],\"y\":[10.0,10],\"z\":[5.5,6],\"type\":\"scatter3d\"},{\"line\":{\"color\":\"black\",\"width\":2},\"mode\":\"lines\",\"x\":[5.3535,5.707],\"y\":[10.3535,10.707],\"z\":[5.0,5],\"type\":\"scatter3d\"},{\"line\":{\"color\":\"black\",\"width\":2},\"mode\":\"lines\",\"x\":[4.6465,4.293],\"y\":[9.6465,9.293],\"z\":[5.0,5],\"type\":\"scatter3d\"},{\"line\":{\"color\":\"black\",\"width\":2},\"mode\":\"lines\",\"x\":[5.3535,5.707],\"y\":[10.0,10],\"z\":[5.3535,5.707],\"type\":\"scatter3d\"},{\"line\":{\"color\":\"black\",\"width\":2},\"mode\":\"lines\",\"x\":[4.6465,4.293],\"y\":[10.0,10],\"z\":[4.6465,4.293],\"type\":\"scatter3d\"},{\"line\":{\"color\":\"black\",\"width\":2},\"mode\":\"lines\",\"x\":[5.0,5],\"y\":[10.3535,10.707],\"z\":[5.3535,5.707],\"type\":\"scatter3d\"},{\"line\":{\"color\":\"black\",\"width\":2},\"mode\":\"lines\",\"x\":[5.0,5],\"y\":[9.6465,9.293],\"z\":[4.6465,4.293],\"type\":\"scatter3d\"},{\"line\":{\"color\":\"black\",\"width\":2},\"mode\":\"lines\",\"x\":[5.3535,5.707],\"y\":[9.6465,9.293],\"z\":[5.0,5],\"type\":\"scatter3d\"},{\"line\":{\"color\":\"black\",\"width\":2},\"mode\":\"lines\",\"x\":[4.6465,4.293],\"y\":[10.3535,10.707],\"z\":[5.0,5],\"type\":\"scatter3d\"},{\"line\":{\"color\":\"black\",\"width\":2},\"mode\":\"lines\",\"x\":[5.3535,5.707],\"y\":[10.0,10],\"z\":[4.6465,4.293],\"type\":\"scatter3d\"},{\"line\":{\"color\":\"black\",\"width\":2},\"mode\":\"lines\",\"x\":[4.6465,4.293],\"y\":[10.0,10],\"z\":[5.3535,5.707],\"type\":\"scatter3d\"},{\"line\":{\"color\":\"black\",\"width\":2},\"mode\":\"lines\",\"x\":[5.0,5],\"y\":[10.3535,10.707],\"z\":[4.6465,4.293],\"type\":\"scatter3d\"},{\"line\":{\"color\":\"black\",\"width\":2},\"mode\":\"lines\",\"x\":[5.0,5],\"y\":[9.6465,9.293],\"z\":[5.3535,5.707],\"type\":\"scatter3d\"}],                        {\"template\":{\"data\":{\"bar\":[{\"error_x\":{\"color\":\"#2a3f5f\"},\"error_y\":{\"color\":\"#2a3f5f\"},\"marker\":{\"line\":{\"color\":\"#E5ECF6\",\"width\":0.5},\"pattern\":{\"fillmode\":\"overlay\",\"size\":10,\"solidity\":0.2}},\"type\":\"bar\"}],\"barpolar\":[{\"marker\":{\"line\":{\"color\":\"#E5ECF6\",\"width\":0.5},\"pattern\":{\"fillmode\":\"overlay\",\"size\":10,\"solidity\":0.2}},\"type\":\"barpolar\"}],\"carpet\":[{\"aaxis\":{\"endlinecolor\":\"#2a3f5f\",\"gridcolor\":\"white\",\"linecolor\":\"white\",\"minorgridcolor\":\"white\",\"startlinecolor\":\"#2a3f5f\"},\"baxis\":{\"endlinecolor\":\"#2a3f5f\",\"gridcolor\":\"white\",\"linecolor\":\"white\",\"minorgridcolor\":\"white\",\"startlinecolor\":\"#2a3f5f\"},\"type\":\"carpet\"}],\"choropleth\":[{\"colorbar\":{\"outlinewidth\":0,\"ticks\":\"\"},\"type\":\"choropleth\"}],\"contour\":[{\"colorbar\":{\"outlinewidth\":0,\"ticks\":\"\"},\"colorscale\":[[0.0,\"#0d0887\"],[0.1111111111111111,\"#46039f\"],[0.2222222222222222,\"#7201a8\"],[0.3333333333333333,\"#9c179e\"],[0.4444444444444444,\"#bd3786\"],[0.5555555555555556,\"#d8576b\"],[0.6666666666666666,\"#ed7953\"],[0.7777777777777778,\"#fb9f3a\"],[0.8888888888888888,\"#fdca26\"],[1.0,\"#f0f921\"]],\"type\":\"contour\"}],\"contourcarpet\":[{\"colorbar\":{\"outlinewidth\":0,\"ticks\":\"\"},\"type\":\"contourcarpet\"}],\"heatmap\":[{\"colorbar\":{\"outlinewidth\":0,\"ticks\":\"\"},\"colorscale\":[[0.0,\"#0d0887\"],[0.1111111111111111,\"#46039f\"],[0.2222222222222222,\"#7201a8\"],[0.3333333333333333,\"#9c179e\"],[0.4444444444444444,\"#bd3786\"],[0.5555555555555556,\"#d8576b\"],[0.6666666666666666,\"#ed7953\"],[0.7777777777777778,\"#fb9f3a\"],[0.8888888888888888,\"#fdca26\"],[1.0,\"#f0f921\"]],\"type\":\"heatmap\"}],\"heatmapgl\":[{\"colorbar\":{\"outlinewidth\":0,\"ticks\":\"\"},\"colorscale\":[[0.0,\"#0d0887\"],[0.1111111111111111,\"#46039f\"],[0.2222222222222222,\"#7201a8\"],[0.3333333333333333,\"#9c179e\"],[0.4444444444444444,\"#bd3786\"],[0.5555555555555556,\"#d8576b\"],[0.6666666666666666,\"#ed7953\"],[0.7777777777777778,\"#fb9f3a\"],[0.8888888888888888,\"#fdca26\"],[1.0,\"#f0f921\"]],\"type\":\"heatmapgl\"}],\"histogram\":[{\"marker\":{\"pattern\":{\"fillmode\":\"overlay\",\"size\":10,\"solidity\":0.2}},\"type\":\"histogram\"}],\"histogram2d\":[{\"colorbar\":{\"outlinewidth\":0,\"ticks\":\"\"},\"colorscale\":[[0.0,\"#0d0887\"],[0.1111111111111111,\"#46039f\"],[0.2222222222222222,\"#7201a8\"],[0.3333333333333333,\"#9c179e\"],[0.4444444444444444,\"#bd3786\"],[0.5555555555555556,\"#d8576b\"],[0.6666666666666666,\"#ed7953\"],[0.7777777777777778,\"#fb9f3a\"],[0.8888888888888888,\"#fdca26\"],[1.0,\"#f0f921\"]],\"type\":\"histogram2d\"}],\"histogram2dcontour\":[{\"colorbar\":{\"outlinewidth\":0,\"ticks\":\"\"},\"colorscale\":[[0.0,\"#0d0887\"],[0.1111111111111111,\"#46039f\"],[0.2222222222222222,\"#7201a8\"],[0.3333333333333333,\"#9c179e\"],[0.4444444444444444,\"#bd3786\"],[0.5555555555555556,\"#d8576b\"],[0.6666666666666666,\"#ed7953\"],[0.7777777777777778,\"#fb9f3a\"],[0.8888888888888888,\"#fdca26\"],[1.0,\"#f0f921\"]],\"type\":\"histogram2dcontour\"}],\"mesh3d\":[{\"colorbar\":{\"outlinewidth\":0,\"ticks\":\"\"},\"type\":\"mesh3d\"}],\"parcoords\":[{\"line\":{\"colorbar\":{\"outlinewidth\":0,\"ticks\":\"\"}},\"type\":\"parcoords\"}],\"pie\":[{\"automargin\":true,\"type\":\"pie\"}],\"scatter\":[{\"marker\":{\"colorbar\":{\"outlinewidth\":0,\"ticks\":\"\"}},\"type\":\"scatter\"}],\"scatter3d\":[{\"line\":{\"colorbar\":{\"outlinewidth\":0,\"ticks\":\"\"}},\"marker\":{\"colorbar\":{\"outlinewidth\":0,\"ticks\":\"\"}},\"type\":\"scatter3d\"}],\"scattercarpet\":[{\"marker\":{\"colorbar\":{\"outlinewidth\":0,\"ticks\":\"\"}},\"type\":\"scattercarpet\"}],\"scattergeo\":[{\"marker\":{\"colorbar\":{\"outlinewidth\":0,\"ticks\":\"\"}},\"type\":\"scattergeo\"}],\"scattergl\":[{\"marker\":{\"colorbar\":{\"outlinewidth\":0,\"ticks\":\"\"}},\"type\":\"scattergl\"}],\"scattermapbox\":[{\"marker\":{\"colorbar\":{\"outlinewidth\":0,\"ticks\":\"\"}},\"type\":\"scattermapbox\"}],\"scatterpolar\":[{\"marker\":{\"colorbar\":{\"outlinewidth\":0,\"ticks\":\"\"}},\"type\":\"scatterpolar\"}],\"scatterpolargl\":[{\"marker\":{\"colorbar\":{\"outlinewidth\":0,\"ticks\":\"\"}},\"type\":\"scatterpolargl\"}],\"scatterternary\":[{\"marker\":{\"colorbar\":{\"outlinewidth\":0,\"ticks\":\"\"}},\"type\":\"scatterternary\"}],\"surface\":[{\"colorbar\":{\"outlinewidth\":0,\"ticks\":\"\"},\"colorscale\":[[0.0,\"#0d0887\"],[0.1111111111111111,\"#46039f\"],[0.2222222222222222,\"#7201a8\"],[0.3333333333333333,\"#9c179e\"],[0.4444444444444444,\"#bd3786\"],[0.5555555555555556,\"#d8576b\"],[0.6666666666666666,\"#ed7953\"],[0.7777777777777778,\"#fb9f3a\"],[0.8888888888888888,\"#fdca26\"],[1.0,\"#f0f921\"]],\"type\":\"surface\"}],\"table\":[{\"cells\":{\"fill\":{\"color\":\"#EBF0F8\"},\"line\":{\"color\":\"white\"}},\"header\":{\"fill\":{\"color\":\"#C8D4E3\"},\"line\":{\"color\":\"white\"}},\"type\":\"table\"}]},\"layout\":{\"annotationdefaults\":{\"arrowcolor\":\"#2a3f5f\",\"arrowhead\":0,\"arrowwidth\":1},\"autotypenumbers\":\"strict\",\"coloraxis\":{\"colorbar\":{\"outlinewidth\":0,\"ticks\":\"\"}},\"colorscale\":{\"diverging\":[[0,\"#8e0152\"],[0.1,\"#c51b7d\"],[0.2,\"#de77ae\"],[0.3,\"#f1b6da\"],[0.4,\"#fde0ef\"],[0.5,\"#f7f7f7\"],[0.6,\"#e6f5d0\"],[0.7,\"#b8e186\"],[0.8,\"#7fbc41\"],[0.9,\"#4d9221\"],[1,\"#276419\"]],\"sequential\":[[0.0,\"#0d0887\"],[0.1111111111111111,\"#46039f\"],[0.2222222222222222,\"#7201a8\"],[0.3333333333333333,\"#9c179e\"],[0.4444444444444444,\"#bd3786\"],[0.5555555555555556,\"#d8576b\"],[0.6666666666666666,\"#ed7953\"],[0.7777777777777778,\"#fb9f3a\"],[0.8888888888888888,\"#fdca26\"],[1.0,\"#f0f921\"]],\"sequentialminus\":[[0.0,\"#0d0887\"],[0.1111111111111111,\"#46039f\"],[0.2222222222222222,\"#7201a8\"],[0.3333333333333333,\"#9c179e\"],[0.4444444444444444,\"#bd3786\"],[0.5555555555555556,\"#d8576b\"],[0.6666666666666666,\"#ed7953\"],[0.7777777777777778,\"#fb9f3a\"],[0.8888888888888888,\"#fdca26\"],[1.0,\"#f0f921\"]]},\"colorway\":[\"#636efa\",\"#EF553B\",\"#00cc96\",\"#ab63fa\",\"#FFA15A\",\"#19d3f3\",\"#FF6692\",\"#B6E880\",\"#FF97FF\",\"#FECB52\"],\"font\":{\"color\":\"#2a3f5f\"},\"geo\":{\"bgcolor\":\"white\",\"lakecolor\":\"white\",\"landcolor\":\"#E5ECF6\",\"showlakes\":true,\"showland\":true,\"subunitcolor\":\"white\"},\"hoverlabel\":{\"align\":\"left\"},\"hovermode\":\"closest\",\"mapbox\":{\"style\":\"light\"},\"paper_bgcolor\":\"white\",\"plot_bgcolor\":\"#E5ECF6\",\"polar\":{\"angularaxis\":{\"gridcolor\":\"white\",\"linecolor\":\"white\",\"ticks\":\"\"},\"bgcolor\":\"#E5ECF6\",\"radialaxis\":{\"gridcolor\":\"white\",\"linecolor\":\"white\",\"ticks\":\"\"}},\"scene\":{\"xaxis\":{\"backgroundcolor\":\"#E5ECF6\",\"gridcolor\":\"white\",\"gridwidth\":2,\"linecolor\":\"white\",\"showbackground\":true,\"ticks\":\"\",\"zerolinecolor\":\"white\"},\"yaxis\":{\"backgroundcolor\":\"#E5ECF6\",\"gridcolor\":\"white\",\"gridwidth\":2,\"linecolor\":\"white\",\"showbackground\":true,\"ticks\":\"\",\"zerolinecolor\":\"white\"},\"zaxis\":{\"backgroundcolor\":\"#E5ECF6\",\"gridcolor\":\"white\",\"gridwidth\":2,\"linecolor\":\"white\",\"showbackground\":true,\"ticks\":\"\",\"zerolinecolor\":\"white\"}},\"shapedefaults\":{\"line\":{\"color\":\"#2a3f5f\"}},\"ternary\":{\"aaxis\":{\"gridcolor\":\"white\",\"linecolor\":\"white\",\"ticks\":\"\"},\"baxis\":{\"gridcolor\":\"white\",\"linecolor\":\"white\",\"ticks\":\"\"},\"bgcolor\":\"#E5ECF6\",\"caxis\":{\"gridcolor\":\"white\",\"linecolor\":\"white\",\"ticks\":\"\"}},\"title\":{\"x\":0.05},\"xaxis\":{\"automargin\":true,\"gridcolor\":\"white\",\"linecolor\":\"white\",\"ticks\":\"\",\"title\":{\"standoff\":15},\"zerolinecolor\":\"white\",\"zerolinewidth\":2},\"yaxis\":{\"automargin\":true,\"gridcolor\":\"white\",\"linecolor\":\"white\",\"ticks\":\"\",\"title\":{\"standoff\":15},\"zerolinecolor\":\"white\",\"zerolinewidth\":2}}},\"scene\":{\"xaxis\":{\"title\":{\"text\":\"\"},\"showticklabels\":false,\"showgrid\":false,\"showbackground\":false},\"yaxis\":{\"title\":{\"text\":\"\"},\"showticklabels\":false,\"showgrid\":false,\"showbackground\":false},\"zaxis\":{\"title\":{\"text\":\"\"},\"showticklabels\":false,\"showgrid\":false,\"showbackground\":false},\"aspectratio\":{\"x\":1,\"y\":1,\"z\":1},\"camera\":{\"eye\":{\"x\":1.2,\"y\":0.7,\"z\":0.4}},\"aspectmode\":\"cube\"},\"showlegend\":false},                        {\"responsive\": true}                    ).then(function(){\n",
       "                            \n",
       "var gd = document.getElementById('f3f897da-0a16-47c0-99ff-23a35f05708e');\n",
       "var x = new MutationObserver(function (mutations, observer) {{\n",
       "        var display = window.getComputedStyle(gd).display;\n",
       "        if (!display || display === 'none') {{\n",
       "            console.log([gd, 'removed!']);\n",
       "            Plotly.purge(gd);\n",
       "            observer.disconnect();\n",
       "        }}\n",
       "}});\n",
       "\n",
       "// Listen for the removal of the full notebook cells\n",
       "var notebookContainer = gd.closest('#notebook-container');\n",
       "if (notebookContainer) {{\n",
       "    x.observe(notebookContainer, {childList: true});\n",
       "}}\n",
       "\n",
       "// Listen for the clearing of the current output cell\n",
       "var outputEl = gd.closest('.output');\n",
       "if (outputEl) {{\n",
       "    x.observe(outputEl, {childList: true});\n",
       "}}\n",
       "\n",
       "                        })                };                });            </script>        </div>"
      ]
     },
     "metadata": {},
     "output_type": "display_data"
    }
   ],
   "source": [
    "#| label: entropymolecule\n",
    "\n",
    "# input variables\n",
    "cube_size = 10\n",
    "position = [5, 5, 2]  \n",
    "# Vectors for velocity and reflected velocity\n",
    "vector_incident = [0, 5, 3]  # Heading towards the right wall\n",
    "vector_reflection = [0, -5, 3]  # Reflecting back from the wall\n",
    "\n",
    "# Create the plot\n",
    "fig = go.Figure()\n",
    "\n",
    "# Cube edges\n",
    "for x in (0, cube_size):\n",
    "    fig.add_trace(go.Scatter3d(\n",
    "        x=[x, x, x, x, x],\n",
    "        y=[0, 0, cube_size, cube_size, 0],\n",
    "        z=[0, cube_size, cube_size, 0, 0],\n",
    "        mode='lines',\n",
    "        line=dict(color='black', width=2),\n",
    "    ))\n",
    "for y in (0, cube_size):\n",
    "    for z in (0, cube_size):\n",
    "        fig.add_trace(go.Scatter3d(\n",
    "            x=[0, cube_size],\n",
    "            y=[y, y],\n",
    "            z=[z, z],\n",
    "            mode='lines',\n",
    "            line=dict(color='black', width=2),\n",
    "        ))\n",
    "\n",
    "# Cube face\n",
    "fig.add_trace(go.Mesh3d(\n",
    "    x=[0, cube_size, cube_size, 0],\n",
    "    y=[cube_size, cube_size, cube_size, cube_size],\n",
    "    z=[0, 0, cube_size, cube_size],\n",
    "    i=[0, 1, 2, 3],  # Define indices for the vertices to form a face\n",
    "    j=[1, 2, 3, 0],\n",
    "    k=[2, 3, 0, 1],\n",
    "    # color='rgb(0,0.7,1.0)',\n",
    "    color='cyan',\n",
    "    opacity=0.25,\n",
    "    name='Cube Face'\n",
    "))\n",
    "\n",
    "#  gas molecule\n",
    "fig.add_trace(go.Scatter3d(\n",
    "    x=[position[0]],\n",
    "    y=[position[1]],\n",
    "    z=[position[2]],\n",
    "    mode='markers+text',\n",
    "    marker=dict(size=8, color='black'),\n",
    "    text=['\\u0305v'],  # Unicode for overline (velocity symbol)\n",
    "    textposition='top center',\n",
    "    name='Gas Molecule'\n",
    "))\n",
    "\n",
    "# Add incident vector as a line with cone arrow\n",
    "fig.add_trace(go.Scatter3d(\n",
    "    x=[position[0], position[0] + vector_incident[0]*0.95],\n",
    "    y=[position[1], position[1] + vector_incident[1]*0.95],\n",
    "    z=[position[2], position[2] + vector_incident[2]*0.95],\n",
    "    mode='lines',\n",
    "    line=dict(color='red', width=5),\n",
    "    name='Incident Vector'\n",
    "))\n",
    "fig.add_trace(go.Cone(\n",
    "    x=[position[0] + vector_incident[0]],\n",
    "    y=[position[1] + vector_incident[1]],\n",
    "    z=[position[2] + vector_incident[2]],\n",
    "    u=[vector_incident[0]],\n",
    "    v=[vector_incident[1]],\n",
    "    w=[vector_incident[2]],\n",
    "    sizemode='absolute',\n",
    "    sizeref=2,\n",
    "    anchor='tip',\n",
    "    name='Incident Arrow',\n",
    "    showscale=False,\n",
    "    colorscale=[[0, 'red'], [1, 'red']]\n",
    "))\n",
    "\n",
    "# Add reflection vector as a line with cone arrow\n",
    "fig.add_trace(go.Scatter3d(\n",
    "    x=[position[0] + vector_incident[0], position[0] + vector_incident[0] + vector_reflection[0]*0.95],\n",
    "    y=[position[1] + vector_incident[1], position[1] + vector_incident[1] + vector_reflection[1]*0.95],\n",
    "    z=[position[2] + vector_incident[2], position[2] + vector_incident[2] + vector_reflection[2]*0.95],\n",
    "    mode='lines',\n",
    "    line=dict(color='red', width=5),\n",
    "    name='Incident Vector'\n",
    "))\n",
    "fig.add_trace(go.Cone(\n",
    "    x=[position[0] + vector_incident[0] + vector_reflection[0]],\n",
    "    y=[position[1] + vector_incident[1] + vector_reflection[1]],\n",
    "    z=[position[2] + vector_incident[2] + vector_reflection[2]],\n",
    "    u=[vector_reflection[0]],\n",
    "    v=[vector_reflection[1]],\n",
    "    w=[vector_reflection[2]],\n",
    "    sizemode='absolute',\n",
    "    sizeref=2,\n",
    "    anchor='tip',\n",
    "    name='Incident Arrow',\n",
    "    showscale=False,\n",
    "    colorscale=[[0, 'red'], [1, 'red']]\n",
    "))\n",
    "\n",
    "# Add x, y, z axes\n",
    "extend = 4\n",
    "fig.add_trace(go.Scatter3d(\n",
    "    x=[0, cube_size+extend], y=[0, 0], z=[0, 0], \n",
    "    mode='lines+text',\n",
    "    line=dict(color='black', width=3),\n",
    "    text=['', 'x'], \n",
    "    textposition='top center',\n",
    "    name='X-axis'\n",
    "))\n",
    "fig.add_trace(go.Scatter3d(\n",
    "    x=[0, 0], y=[0, cube_size+extend], z=[0, 0], \n",
    "    mode='lines+text',\n",
    "    line=dict(color='black', width=3),\n",
    "    text=['', 'y'], \n",
    "    textposition='top center',\n",
    "    name='Y-axis'\n",
    "))\n",
    "fig.add_trace(go.Scatter3d(\n",
    "    x=[0, 0], y=[0, 0], z=[0, cube_size+extend], \n",
    "    mode='lines+text',\n",
    "    line=dict(color='black', width=3),\n",
    "    text=['', 'z'], \n",
    "    textposition='top center',\n",
    "    name='Z-axis'\n",
    "))\n",
    "\n",
    "# Add \"starburst\" at collision point\n",
    "collision_point = [position[0] + vector_incident[0], position[1] + vector_incident[1], position[2] + vector_incident[2]]\n",
    "burst_length = (0.5,1)  # Adjust length of starburst rays\n",
    "# Directions for the 8 rays (diagonals included)\n",
    "s = 0.707\n",
    "directions = [\n",
    "    (-1, 0, 0), (1, 0, 0),  # ±x\n",
    "    (0, -1, 0), (0, 1, 0),  # ±y\n",
    "    (0, 0, -1), (0, 0, 1),  # ±z\n",
    "    (s, s, 0), (-s, -s, 0), \n",
    "    (s, 0, s), (-s, 0, -s), \n",
    "    (0, s, s), (0, -s, -s), \n",
    "    (s, -s, 0), (-s, s, 0), \n",
    "    (s, 0, -s), (-s, 0, s), \n",
    "    (0, s, -s), (0, -s, s), \n",
    "]\n",
    "\n",
    "# Add rays\n",
    "for dx, dy, dz in directions:\n",
    "    fig.add_trace(go.Scatter3d(\n",
    "        x=[collision_point[0] + dx * burst_length[0], collision_point[0] + dx * burst_length[1]],\n",
    "        y=[collision_point[1] + dy * burst_length[0], collision_point[1] + dy * burst_length[1]],\n",
    "        z=[collision_point[2] + dz * burst_length[0], collision_point[2] + dz * burst_length[1]],\n",
    "        mode='lines',\n",
    "        line=dict(color='black', width=2),\n",
    "    ))\n",
    "\n",
    "# # Add \"starburst\" at collision point\n",
    "# collision_point = [position[0] + vector_incident[0], position[1] + vector_incident[1], position[2] + vector_incident[2]]\n",
    "# burst_length = 2  # Adjust length of starburst rays\n",
    "\n",
    "# for dx, dy, dz in [(-1, 0, 0), (1, 0, 0), (0, -1, 0), (0, 1, 0), (0, 0, -1), (0, 0, 1)]:\n",
    "#     fig.add_trace(go.Scatter3d(\n",
    "#         x=[collision_point[0], collision_point[0] + dx * burst_length],\n",
    "#         y=[collision_point[1], collision_point[1] + dy * burst_length],\n",
    "#         z=[collision_point[2], collision_point[2] + dz * burst_length],\n",
    "#         mode='lines',\n",
    "#         line=dict(color='yellow', width=2),\n",
    "#         name='Starburst'\n",
    "#     ))\n",
    "\n",
    "\n",
    "# Customize the layout\n",
    "fig.update_layout(\n",
    "    scene=dict(\n",
    "        xaxis=dict(title='', showticklabels=False, showgrid=False, showbackground=False),\n",
    "        yaxis=dict(title='', showticklabels=False, showgrid=False, showbackground=False),\n",
    "        zaxis=dict(title='', showticklabels=False, showgrid=False, showbackground=False),\n",
    "        aspectratio=dict(x=1, y=1, z=1),\n",
    "        aspectmode='cube',\n",
    "        camera=dict(\n",
    "            eye=dict(x=1.2, y=0.7, z=0.4)  # Adjusting the perspective\n",
    "        )\n",
    "    ),\n",
    "    showlegend=False\n",
    ")\n",
    "\n",
    "# Show the plot\n",
    "fig.show()\n"
   ]
  },
  {
   "cell_type": "code",
   "execution_count": null,
   "id": "7175b7e5-9d6e-4164-8ff1-85fa554c1063",
   "metadata": {},
   "outputs": [],
   "source": [
    "!"
   ]
  }
 ],
 "metadata": {
  "kernelspec": {
   "display_name": "Python 3 (ipykernel)",
   "language": "python",
   "name": "python3"
  },
  "language_info": {
   "codemirror_mode": {
    "name": "ipython",
    "version": 3
   },
   "file_extension": ".py",
   "mimetype": "text/x-python",
   "name": "python",
   "nbconvert_exporter": "python",
   "pygments_lexer": "ipython3",
   "version": "3.13.1"
  }
 },
 "nbformat": 4,
 "nbformat_minor": 5
}
