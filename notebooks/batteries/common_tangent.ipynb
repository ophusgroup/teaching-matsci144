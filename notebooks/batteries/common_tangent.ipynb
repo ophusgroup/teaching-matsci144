{
 "cells": [
  {
   "cell_type": "code",
   "execution_count": 1,
   "metadata": {},
   "outputs": [],
   "source": [
    "import numpy as np\n",
    "import matplotlib.pyplot as plt\n",
    "\n",
    "from ipywidgets import interact\n",
    "from ipywidgets.widgets import FloatSlider\n",
    "from scipy.spatial import ConvexHull"
   ]
  },
  {
   "cell_type": "code",
   "execution_count": 2,
   "metadata": {},
   "outputs": [],
   "source": [
    "# Define variables and constants\n",
    "R = 8.314\n",
    "x = np.linspace(0, 1, endpoint=False, num=301)[1:]\n",
    "# T = 365\n",
    "# # mu_a1 = 1400\n",
    "# mu_a1 = 2000\n",
    "# # mu_b1 = 0\n",
    "# mu_b1 = 1500\n",
    "# mu_a2 = 0\n",
    "# mu_b2 = 800\n",
    "# l1 = 4400\n",
    "# l2 = 4400"
   ]
  },
  {
   "cell_type": "code",
   "execution_count": 3,
   "metadata": {},
   "outputs": [],
   "source": [
    "def plot_lower_convexhull(T, mu_a1, mu_b1, mu_a2, mu_b2, l1, l2):\n",
    "    mu_1 = mu_a1 * (1 - x) + mu_b1 * x + R * T * (x * np.log(x) + (1-x) * np.log(1-x)) + l1 * x * (1-x)\n",
    "    mu_2 = mu_a2 * (1 - x) + mu_b2 * x + R * T * (x * np.log(x) + (1-x) * np.log(1-x)) + l2 * x * (1-x)\n",
    "\n",
    "    combined_xs = np.concatenate((x, x))\n",
    "    combined_mus = np.concatenate((mu_1, mu_2))\n",
    "    plot_buffer = 200\n",
    "    max_y_plot = np.max(combined_mus) + plot_buffer\n",
    "    min_y_plot = np.min(combined_mus) - plot_buffer\n",
    "\n",
    "    upper_left_x, upper_left_y = np.min(x), max_y_plot\n",
    "    upper_right_x, upper_right_y = np.max(x), max_y_plot\n",
    "\n",
    "    convexhull_x = np.concatenate((combined_xs, [upper_left_x, upper_right_x]))\n",
    "    convexhull_y = np.concatenate((combined_mus, [upper_left_y, upper_right_y]))\n",
    "    convexhull_xy = np.vstack(([convexhull_x], [convexhull_y])).T\n",
    "    # number of convex hull points\n",
    "    num_chpts = convexhull_xy.shape[0]\n",
    "\n",
    "    ch = ConvexHull(convexhull_xy)\n",
    "    lower_ch_vertices = np.array([_ for _ in ch.vertices if _ not in [num_chpts-1, num_chpts-2]], dtype=np.int32)\n",
    "    # lower_ch_vertices = np.sort(lower_ch_vertices)\n",
    "\n",
    "    # Find all the compositions where there are a common tangent line\n",
    "    index_diffs = np.ediff1d(lower_ch_vertices)\n",
    "    # the common tangents occurs at index jump greater than 1\n",
    "    common_tangents_diff_ids = np.where(index_diffs != 1)[0]\n",
    "    common_tangents_ids = [[_, _ + 1] for _ in common_tangents_diff_ids]\n",
    "\n",
    "    fig, ax = plt.subplots(figsize=(6, 4))\n",
    "    ax.plot(x, mu_1, label=\"$g_1$\")\n",
    "    ax.plot(x, mu_2, label=\"$g_2$\")\n",
    "\n",
    "    # Filter out indices jump that correspond to jumping from one end of one phase to the other end of the same/other phase\n",
    "#     num_lowch_pts = lower_ch_vertices.shape[0]\n",
    "#     lower_ch_vertices_for_plotting = lower_ch_vertices.copy()\n",
    "#     if lower_ch_vertices[:2] in [[num_lowch_pts-1, 0],\n",
    "#                                  [2*num_lowch_pts-1, num_lowch_pts],\n",
    "#                                  [0, num_lowch_pts],\n",
    "#                                  [0, 2*num_lowch_pts-1],\n",
    "#                                  [num_lowch_pts-1, num_lowch_pts],\n",
    "#                                  [num_lowch_pts-1, 2*num_lowch_pts-1]]:\n",
    "#          lower_ch_vertices_for_plotting = np.concatenate((lower_ch_vertices[1:], [lower_ch_vertices[0]]))\n",
    "    ax.plot(convexhull_x[lower_ch_vertices], convexhull_y[lower_ch_vertices],\n",
    "            c=\"purple\", label=\"lower convexhull\", ls=\"-.\")\n",
    "\n",
    "    # print(lower_ch_vertices)\n",
    "    for pair_of_common_tangent in common_tangents_ids:\n",
    "        # if pair_of_common_tangent not in [[num_lowch_pts-1, 0],\n",
    "        #                                   [2*num_lowch_pts-1, num_lowch_pts],\n",
    "        #                                   [0, num_lowch_pts],\n",
    "        #                                   [0, 2*num_lowch_pts-1],\n",
    "        #                                   [num_lowch_pts-1, num_lowch_pts],\n",
    "        #                                           [num_lowch_pts-1, 2*num_lowch_pts-1]]:\n",
    "            ax.plot(convexhull_x[lower_ch_vertices[pair_of_common_tangent]],\n",
    "                    convexhull_y[lower_ch_vertices[pair_of_common_tangent]],\n",
    "                    c=\"r\", label=\"common tangent\")\n",
    "            ax.scatter(convexhull_x[lower_ch_vertices[pair_of_common_tangent]],\n",
    "                       convexhull_y[lower_ch_vertices[pair_of_common_tangent]],\n",
    "                       c=\"r\")\n",
    "    ax.set_xlim(0, 1)\n",
    "    ax.set_ylim(-20000, 20000)\n",
    "    plt.legend()\n",
    "    plt.show()\n"
   ]
  },
  {
   "cell_type": "code",
   "execution_count": 4,
   "metadata": {},
   "outputs": [
    {
     "data": {
      "application/vnd.jupyter.widget-view+json": {
       "model_id": "cb270cbc41f04ffc81cdb8b5c5e258eb",
       "version_major": 2,
       "version_minor": 0
      },
      "text/plain": [
       "interactive(children=(FloatSlider(value=365.0, description='T', max=5000.0), FloatSlider(value=2000.0, descrip…"
      ]
     },
     "metadata": {},
     "output_type": "display_data"
    },
    {
     "data": {
      "text/plain": [
       "<function __main__.plot_lower_convexhull(T, mu_a1, mu_b1, mu_a2, mu_b2, l1, l2)>"
      ]
     },
     "execution_count": 4,
     "metadata": {},
     "output_type": "execute_result"
    }
   ],
   "source": [
    "#| label: lower_convexhull\n",
    "\n",
    "interact(plot_lower_convexhull,\n",
    "         T=FloatSlider(value=365, min=0, max=5000),\n",
    "         mu_a1=FloatSlider(value=2000, min=-10000, max=10000),\n",
    "         mu_b1=FloatSlider(value=1500, min=-10000, max=10000),\n",
    "         mu_a2=FloatSlider(value=0, min=-10000, max=10000),\n",
    "         mu_b2=FloatSlider(value=800, min=-10000, max=10000),\n",
    "         l1=FloatSlider(value=4400, min=-30000, max=30000),\n",
    "         l2=FloatSlider(value=4400, min=-30000, max=30000))"
   ]
  }
 ],
 "metadata": {
  "kernelspec": {
   "display_name": "Python 3",
   "language": "python",
   "name": "python3"
  },
  "language_info": {
   "codemirror_mode": {
    "name": "ipython",
    "version": 3
   },
   "file_extension": ".py",
   "mimetype": "text/x-python",
   "name": "python",
   "nbconvert_exporter": "python",
   "pygments_lexer": "ipython3",
   "version": "3.9.6"
  }
 },
 "nbformat": 4,
 "nbformat_minor": 2
}
